{
 "cells": [
  {
   "cell_type": "code",
   "execution_count": 1,
   "id": "be20577f",
   "metadata": {},
   "outputs": [],
   "source": [
    "from openai import OpenAI\n",
    "from dotenv import load_dotenv\n",
    "import os\n",
    "import pandas as pd"
   ]
  },
  {
   "cell_type": "code",
   "execution_count": 2,
   "id": "24a8b634",
   "metadata": {},
   "outputs": [
    {
     "data": {
      "text/html": [
       "<div>\n",
       "<style scoped>\n",
       "    .dataframe tbody tr th:only-of-type {\n",
       "        vertical-align: middle;\n",
       "    }\n",
       "\n",
       "    .dataframe tbody tr th {\n",
       "        vertical-align: top;\n",
       "    }\n",
       "\n",
       "    .dataframe thead th {\n",
       "        text-align: right;\n",
       "    }\n",
       "</style>\n",
       "<table border=\"1\" class=\"dataframe\">\n",
       "  <thead>\n",
       "    <tr style=\"text-align: right;\">\n",
       "      <th></th>\n",
       "      <th>0</th>\n",
       "      <th>1</th>\n",
       "      <th>2</th>\n",
       "      <th>3</th>\n",
       "    </tr>\n",
       "  </thead>\n",
       "  <tbody>\n",
       "    <tr>\n",
       "      <th>0</th>\n",
       "      <td>(id, gpt-4o-audio-preview-2024-12-17)</td>\n",
       "      <td>(created, 1734034239)</td>\n",
       "      <td>(object, model)</td>\n",
       "      <td>(owned_by, system)</td>\n",
       "    </tr>\n",
       "    <tr>\n",
       "      <th>1</th>\n",
       "      <td>(id, dall-e-3)</td>\n",
       "      <td>(created, 1698785189)</td>\n",
       "      <td>(object, model)</td>\n",
       "      <td>(owned_by, system)</td>\n",
       "    </tr>\n",
       "    <tr>\n",
       "      <th>2</th>\n",
       "      <td>(id, text-embedding-3-large)</td>\n",
       "      <td>(created, 1705953180)</td>\n",
       "      <td>(object, model)</td>\n",
       "      <td>(owned_by, system)</td>\n",
       "    </tr>\n",
       "    <tr>\n",
       "      <th>3</th>\n",
       "      <td>(id, dall-e-2)</td>\n",
       "      <td>(created, 1698798177)</td>\n",
       "      <td>(object, model)</td>\n",
       "      <td>(owned_by, system)</td>\n",
       "    </tr>\n",
       "    <tr>\n",
       "      <th>4</th>\n",
       "      <td>(id, gpt-4o-audio-preview-2024-10-01)</td>\n",
       "      <td>(created, 1727389042)</td>\n",
       "      <td>(object, model)</td>\n",
       "      <td>(owned_by, system)</td>\n",
       "    </tr>\n",
       "    <tr>\n",
       "      <th>...</th>\n",
       "      <td>...</td>\n",
       "      <td>...</td>\n",
       "      <td>...</td>\n",
       "      <td>...</td>\n",
       "    </tr>\n",
       "    <tr>\n",
       "      <th>58</th>\n",
       "      <td>(id, gpt-4o-mini-audio-preview-2024-12-17)</td>\n",
       "      <td>(created, 1734115920)</td>\n",
       "      <td>(object, model)</td>\n",
       "      <td>(owned_by, system)</td>\n",
       "    </tr>\n",
       "    <tr>\n",
       "      <th>59</th>\n",
       "      <td>(id, gpt-3.5-turbo-0125)</td>\n",
       "      <td>(created, 1706048358)</td>\n",
       "      <td>(object, model)</td>\n",
       "      <td>(owned_by, system)</td>\n",
       "    </tr>\n",
       "    <tr>\n",
       "      <th>60</th>\n",
       "      <td>(id, o1-mini-2024-09-12)</td>\n",
       "      <td>(created, 1725648979)</td>\n",
       "      <td>(object, model)</td>\n",
       "      <td>(owned_by, system)</td>\n",
       "    </tr>\n",
       "    <tr>\n",
       "      <th>61</th>\n",
       "      <td>(id, gpt-4-1106-preview)</td>\n",
       "      <td>(created, 1698957206)</td>\n",
       "      <td>(object, model)</td>\n",
       "      <td>(owned_by, system)</td>\n",
       "    </tr>\n",
       "    <tr>\n",
       "      <th>62</th>\n",
       "      <td>(id, omni-moderation-latest)</td>\n",
       "      <td>(created, 1731689265)</td>\n",
       "      <td>(object, model)</td>\n",
       "      <td>(owned_by, system)</td>\n",
       "    </tr>\n",
       "  </tbody>\n",
       "</table>\n",
       "<p>63 rows × 4 columns</p>\n",
       "</div>"
      ],
      "text/plain": [
       "                                             0                      1  \\\n",
       "0        (id, gpt-4o-audio-preview-2024-12-17)  (created, 1734034239)   \n",
       "1                               (id, dall-e-3)  (created, 1698785189)   \n",
       "2                 (id, text-embedding-3-large)  (created, 1705953180)   \n",
       "3                               (id, dall-e-2)  (created, 1698798177)   \n",
       "4        (id, gpt-4o-audio-preview-2024-10-01)  (created, 1727389042)   \n",
       "..                                         ...                    ...   \n",
       "58  (id, gpt-4o-mini-audio-preview-2024-12-17)  (created, 1734115920)   \n",
       "59                    (id, gpt-3.5-turbo-0125)  (created, 1706048358)   \n",
       "60                    (id, o1-mini-2024-09-12)  (created, 1725648979)   \n",
       "61                    (id, gpt-4-1106-preview)  (created, 1698957206)   \n",
       "62                (id, omni-moderation-latest)  (created, 1731689265)   \n",
       "\n",
       "                  2                   3  \n",
       "0   (object, model)  (owned_by, system)  \n",
       "1   (object, model)  (owned_by, system)  \n",
       "2   (object, model)  (owned_by, system)  \n",
       "3   (object, model)  (owned_by, system)  \n",
       "4   (object, model)  (owned_by, system)  \n",
       "..              ...                 ...  \n",
       "58  (object, model)  (owned_by, system)  \n",
       "59  (object, model)  (owned_by, system)  \n",
       "60  (object, model)  (owned_by, system)  \n",
       "61  (object, model)  (owned_by, system)  \n",
       "62  (object, model)  (owned_by, system)  \n",
       "\n",
       "[63 rows x 4 columns]"
      ]
     },
     "execution_count": 2,
     "metadata": {},
     "output_type": "execute_result"
    }
   ],
   "source": [
    "# Load environment variables\n",
    "load_dotenv()\n",
    "\n",
    "# Instantiate the OpenAI client with your API key\n",
    "client = OpenAI(api_key=os.getenv(\"OPENAI_API_KEY\"))\n",
    "\n",
    "# Retrieve and print all available model IDs\n",
    "models = client.models.list()\n",
    "models = pd.DataFrame(models)\n",
    "models"
   ]
  },
  {
   "cell_type": "code",
   "execution_count": 3,
   "id": "e52bd9c6",
   "metadata": {},
   "outputs": [
    {
     "data": {
      "text/plain": [
       "ChatCompletion(id='chatcmpl-BNXhgpsF96ZlrCCoKcQHxgeQdaOAV', choices=[Choice(finish_reason='stop', index=0, logprobs=None, message=ChatCompletionMessage(content=\"The moon does not have a capital as it is not a country or a sovereign entity. The moon is Earth's natural satellite and does not have its own government or capital city.\", refusal=None, role='assistant', annotations=[], audio=None, function_call=None, tool_calls=None))], created=1744950800, model='gpt-3.5-turbo-0125', object='chat.completion', service_tier='default', system_fingerprint=None, usage=CompletionUsage(completion_tokens=37, prompt_tokens=25, total_tokens=62, completion_tokens_details=CompletionTokensDetails(accepted_prediction_tokens=0, audio_tokens=0, reasoning_tokens=0, rejected_prediction_tokens=0), prompt_tokens_details=PromptTokensDetails(audio_tokens=0, cached_tokens=0)))"
      ]
     },
     "execution_count": 3,
     "metadata": {},
     "output_type": "execute_result"
    }
   ],
   "source": [
    "## Chat completion API\n",
    "\n",
    "## Completion API\n",
    "response = client.chat.completions.create(\n",
    "  model=\"gpt-3.5-turbo\",\n",
    "  messages=[\n",
    "    {\"role\": \"system\", \"content\": \"You are a helpful assistant.\"},\n",
    "    {\"role\": \"user\", \"content\": \"What is the capital of the moon?\"}\n",
    "  ],\n",
    "  temperature=0.7,\n",
    "  max_tokens=256,\n",
    "  top_p=1,\n",
    "  frequency_penalty=0,\n",
    "  presence_penalty=0\n",
    ")\n",
    "response\n"
   ]
  },
  {
   "cell_type": "code",
   "execution_count": 4,
   "id": "acffa067",
   "metadata": {},
   "outputs": [
    {
     "data": {
      "text/plain": [
       "\"The moon does not have a capital as it is not a country or a sovereign entity. The moon is Earth's natural satellite and does not have its own government or capital city.\""
      ]
     },
     "execution_count": 4,
     "metadata": {},
     "output_type": "execute_result"
    }
   ],
   "source": [
    "response.choices[0].message.content"
   ]
  },
  {
   "cell_type": "code",
   "execution_count": 6,
   "id": "1415190a",
   "metadata": {},
   "outputs": [],
   "source": [
    "import requests\n",
    "import json"
   ]
  },
  {
   "cell_type": "markdown",
   "id": "84571a70",
   "metadata": {},
   "source": [
    "### Interacting with an external API\n",
    "#### Fitness App\n",
    "Here, I am interacting with a fitness API - https://rapidapi.com/ltdbilgisam/api/ai-workout-planner-exercise-fitness-nutrition-guide"
   ]
  },
  {
   "cell_type": "code",
   "execution_count": 7,
   "id": "105ebf58",
   "metadata": {},
   "outputs": [],
   "source": [
    "def get_exercise_data(payload):\n",
    "    \"\"\"\n",
    "    This function gets the exercise data from the API\"\"\"\n",
    "    url = \"https://ai-workout-planner-exercise-fitness-nutrition-guide.p.rapidapi.com/customWorkoutPlan\"\n",
    "    querystring = {\"noqueue\":\"1\"}\n",
    "    headers = {\n",
    "\t\t\"x-rapidapi-key\": \"00a55e62b3mshf5066d494cddc56p1b045ajsn88ea8da74aa1\",\n",
    "\t\t\"x-rapidapi-host\": \"ai-workout-planner-exercise-fitness-nutrition-guide.p.rapidapi.com\",\n",
    "\t\t\"Content-Type\": \"application/json\"\n",
    "\t}\n",
    "    response = requests.post(url, json=payload, headers=headers, params=querystring) #\n",
    "    return response.json()"
   ]
  },
  {
   "cell_type": "code",
   "execution_count": 8,
   "id": "372a4d37",
   "metadata": {},
   "outputs": [],
   "source": [
    "payload = {\n",
    "\t\"goal\": \"Improve overall fitness\",\n",
    "\t\"fitness_level\": \"Intermediate\",\n",
    "\t\"preferences\": [\"Cardio\", \"Strength\", \"Yoga\"],\n",
    "\t# \"health_conditions\": [],\n",
    "\t\"schedule\": {\n",
    "\t\t\"days_per_week\": 5,\n",
    "\t\t\"session_duration\": 45\n",
    "\t},\n",
    "\t\"plan_duration_weeks\": 6,\n",
    "\t\"custom_goals\": [\"Increase flexibility\", \"Improve core strength\", \"Gain muscle mass\"],\n",
    "\t\"lang\": \"en\"\n",
    "\t}\n",
    "\n",
    "functions = [\n",
    "    {\n",
    "        \"name\": \"get_exercise_data\",\n",
    "        \"description\": \"Get the exercise data from the API\",\n",
    "        \"parameters\": {\n",
    "            \"type\": \"object\",\n",
    "            \"properties\": {\n",
    "                \"payload\": payload\n",
    "            }\n",
    "        }\n",
    "    }\n",
    "]\n",
    "\n",
    "completion = client.chat.completions.create(\n",
    "    model=\"gpt-3.5-turbo\",\n",
    "    messages=[\n",
    "        {\"role\": \"system\", \"content\": \"You are a fitness coach. You are given a user's fitness goals and you need to create a workout plan for them.\"},\n",
    "        {\"role\": \"user\", \"content\": \"I want to have a general fitness plan. I am a 30 year old male with vegetarian diet and I want to have a workout plan for 5 days a week.\"}\n",
    "    ],\n",
    "    functions=functions\n",
    ")"
   ]
  },
  {
   "cell_type": "code",
   "execution_count": 9,
   "id": "1a9e0847",
   "metadata": {},
   "outputs": [
    {
     "name": "stdout",
     "output_type": "stream",
     "text": [
      "That's great! I can create a customized workout plan for you based on your goals. Let's include a mix of strength training, cardio, and flexibility exercises to ensure a well-rounded fitness routine. I'll provide you with exercises for each day of the week. Let's get started with the plan!\n",
      "\n",
      "### Workout Plan for a 30-Year-Old Male (5 Days a Week)\n",
      "\n",
      "**Day 1: Strength Training**\n",
      "1. Squats - 4 sets of 12 reps\n",
      "2. Push-ups - 3 sets of 15 reps\n",
      "3. Bent-over rows - 3 sets of 12 reps\n",
      "4. Plank - 3 sets of 30 seconds\n",
      "\n",
      "**Day 2: Cardio**\n",
      "1. Jogging or Running - 30 minutes\n",
      "2. Jumping Jacks - 3 sets of 30 seconds\n",
      "3. Burpees - 3 sets of 10 reps\n",
      "4. Jump Rope - 3 sets of 1 minute\n",
      "\n",
      "**Day 3: Rest or Active Recovery (Yoga or Stretching)**\n",
      "\n",
      "**Day 4: Full Body Workout**\n",
      "1. Lunges - 3 sets of 12 reps each leg\n",
      "2. Dumbbell Shoulder Press - 3 sets of 12 reps\n",
      "3. Bicycle Crunches - 3 sets of 20 reps each side\n",
      "4. Russian Twists - 3 sets of 15 reps each side\n",
      "\n",
      "**Day 5: Cardio and Core**\n",
      "1. Cycling - 30 minutes\n",
      "2. Mountain Climbers - 3 sets of 20 reps\n",
      "3. Plank with Leg Lift - 3 sets of 12 reps each leg\n",
      "4. Side Plank - 3 sets of 30 seconds each side\n",
      "\n",
      "**Day 6-7: Rest Days**\n",
      "\n",
      "Remember to warm up before each workout and cool down/stretch afterwards. Stay hydrated and listen to your body. If you have any specific preferences or equipment available, feel free to let me know for further customization.\n",
      "\n",
      "Let me know if you need more details or adjustments to the plan!\n"
     ]
    }
   ],
   "source": [
    "print(completion.choices[0].message.content)"
   ]
  },
  {
   "cell_type": "markdown",
   "id": "5043b004",
   "metadata": {},
   "source": [
    "### Weather API"
   ]
  },
  {
   "cell_type": "code",
   "execution_count": 14,
   "id": "fb886600",
   "metadata": {},
   "outputs": [],
   "source": [
    "def get_current_weather(location):\n",
    "    \"\"\"Get the current weather in a given location\"\"\"\n",
    "\n",
    "    url = \"https://ai-weather-by-meteosource.p.rapidapi.com/find_places\"\n",
    "\n",
    "    querystring = {\"text\":location}\n",
    "\n",
    "    headers = {\n",
    "      \"x-rapidapi-key\": \"00a55e62b3mshf5066d494cddc56p1b045ajsn88ea8da74aa1\",\n",
    "      \"x-rapidapi-host\": \"ai-weather-by-meteosource.p.rapidapi.com\"\n",
    "    }\n",
    "\n",
    "    response = requests.get(url, headers=headers, params=querystring)\n",
    "\n",
    "    print(response.json())\n",
    "  \n",
    "    return response.json()"
   ]
  },
  {
   "cell_type": "code",
   "execution_count": 15,
   "id": "466d9f38",
   "metadata": {},
   "outputs": [
    {
     "name": "stdout",
     "output_type": "stream",
     "text": [
      "[{'name': 'Mumbai', 'place_id': 'mumbai', 'adm_area1': 'Maharashtra', 'adm_area2': None, 'country': 'India', 'lat': '19.07283N', 'lon': '72.88261E', 'timezone': 'Asia/Kolkata', 'type': 'settlement'}, {'name': 'Navi Mumbai', 'place_id': 'navi-mumbai', 'adm_area1': 'Maharashtra', 'adm_area2': 'Thane', 'country': 'India', 'lat': '19.03681N', 'lon': '73.01582E', 'timezone': 'Asia/Kolkata', 'type': 'settlement'}, {'name': 'Borivali', 'place_id': 'borivli', 'adm_area1': 'Maharashtra', 'adm_area2': 'Mumbai Suburban', 'country': 'India', 'lat': '19.23496N', 'lon': '72.85976E', 'timezone': 'Asia/Kolkata', 'type': 'settlement'}, {'name': 'Powai', 'place_id': 'powai', 'adm_area1': 'Maharashtra', 'adm_area2': 'Mumbai Suburban', 'country': 'India', 'lat': '19.1164N', 'lon': '72.90471E', 'timezone': 'Asia/Kolkata', 'type': 'settlement'}, {'name': 'Madh', 'place_id': 'madh-1264586', 'adm_area1': 'Maharashtra', 'adm_area2': 'Mumbai Suburban', 'country': 'India', 'lat': '19.15N', 'lon': '72.83333E', 'timezone': 'Asia/Kolkata', 'type': 'settlement'}, {'name': 'Gorai', 'place_id': 'gorai-1270937', 'adm_area1': 'Maharashtra', 'adm_area2': 'Mumbai Suburban', 'country': 'India', 'lat': '19.25N', 'lon': '72.78333E', 'timezone': 'Asia/Kolkata', 'type': 'settlement'}, {'name': 'Marve', 'place_id': 'marve-1263453', 'adm_area1': 'Maharashtra', 'adm_area2': 'Mumbai Suburban', 'country': 'India', 'lat': '19.18333N', 'lon': '72.8E', 'timezone': 'Asia/Kolkata', 'type': 'settlement'}, {'name': 'Mandvi', 'place_id': 'mandvi-1263823', 'adm_area1': 'Maharashtra', 'adm_area2': 'Mumbai', 'country': 'India', 'lat': '18.95N', 'lon': '72.83333E', 'timezone': 'Asia/Kolkata', 'type': 'settlement'}, {'name': 'Manori', 'place_id': 'manori-1263644', 'adm_area1': 'Maharashtra', 'adm_area2': 'Mumbai Suburban', 'country': 'India', 'lat': '19.20684N', 'lon': '72.78507E', 'timezone': 'Asia/Kolkata', 'type': 'settlement'}, {'name': 'Mumbai Suburban', 'place_id': 'mumbai-suburban', 'adm_area1': 'Maharashtra', 'adm_area2': 'Mumbai Suburban', 'country': 'India', 'lat': '19.12636N', 'lon': '72.84897E', 'timezone': 'Asia/Kolkata', 'type': 'administrative_area'}]\n"
     ]
    }
   ],
   "source": [
    "response=get_current_weather('Mumbai')"
   ]
  },
  {
   "cell_type": "code",
   "execution_count": 16,
   "id": "7c9f4dd1",
   "metadata": {},
   "outputs": [
    {
     "data": {
      "text/plain": [
       "[{'name': 'Mumbai',\n",
       "  'place_id': 'mumbai',\n",
       "  'adm_area1': 'Maharashtra',\n",
       "  'adm_area2': None,\n",
       "  'country': 'India',\n",
       "  'lat': '19.07283N',\n",
       "  'lon': '72.88261E',\n",
       "  'timezone': 'Asia/Kolkata',\n",
       "  'type': 'settlement'},\n",
       " {'name': 'Navi Mumbai',\n",
       "  'place_id': 'navi-mumbai',\n",
       "  'adm_area1': 'Maharashtra',\n",
       "  'adm_area2': 'Thane',\n",
       "  'country': 'India',\n",
       "  'lat': '19.03681N',\n",
       "  'lon': '73.01582E',\n",
       "  'timezone': 'Asia/Kolkata',\n",
       "  'type': 'settlement'},\n",
       " {'name': 'Borivali',\n",
       "  'place_id': 'borivli',\n",
       "  'adm_area1': 'Maharashtra',\n",
       "  'adm_area2': 'Mumbai Suburban',\n",
       "  'country': 'India',\n",
       "  'lat': '19.23496N',\n",
       "  'lon': '72.85976E',\n",
       "  'timezone': 'Asia/Kolkata',\n",
       "  'type': 'settlement'},\n",
       " {'name': 'Powai',\n",
       "  'place_id': 'powai',\n",
       "  'adm_area1': 'Maharashtra',\n",
       "  'adm_area2': 'Mumbai Suburban',\n",
       "  'country': 'India',\n",
       "  'lat': '19.1164N',\n",
       "  'lon': '72.90471E',\n",
       "  'timezone': 'Asia/Kolkata',\n",
       "  'type': 'settlement'},\n",
       " {'name': 'Madh',\n",
       "  'place_id': 'madh-1264586',\n",
       "  'adm_area1': 'Maharashtra',\n",
       "  'adm_area2': 'Mumbai Suburban',\n",
       "  'country': 'India',\n",
       "  'lat': '19.15N',\n",
       "  'lon': '72.83333E',\n",
       "  'timezone': 'Asia/Kolkata',\n",
       "  'type': 'settlement'},\n",
       " {'name': 'Gorai',\n",
       "  'place_id': 'gorai-1270937',\n",
       "  'adm_area1': 'Maharashtra',\n",
       "  'adm_area2': 'Mumbai Suburban',\n",
       "  'country': 'India',\n",
       "  'lat': '19.25N',\n",
       "  'lon': '72.78333E',\n",
       "  'timezone': 'Asia/Kolkata',\n",
       "  'type': 'settlement'},\n",
       " {'name': 'Marve',\n",
       "  'place_id': 'marve-1263453',\n",
       "  'adm_area1': 'Maharashtra',\n",
       "  'adm_area2': 'Mumbai Suburban',\n",
       "  'country': 'India',\n",
       "  'lat': '19.18333N',\n",
       "  'lon': '72.8E',\n",
       "  'timezone': 'Asia/Kolkata',\n",
       "  'type': 'settlement'},\n",
       " {'name': 'Mandvi',\n",
       "  'place_id': 'mandvi-1263823',\n",
       "  'adm_area1': 'Maharashtra',\n",
       "  'adm_area2': 'Mumbai',\n",
       "  'country': 'India',\n",
       "  'lat': '18.95N',\n",
       "  'lon': '72.83333E',\n",
       "  'timezone': 'Asia/Kolkata',\n",
       "  'type': 'settlement'},\n",
       " {'name': 'Manori',\n",
       "  'place_id': 'manori-1263644',\n",
       "  'adm_area1': 'Maharashtra',\n",
       "  'adm_area2': 'Mumbai Suburban',\n",
       "  'country': 'India',\n",
       "  'lat': '19.20684N',\n",
       "  'lon': '72.78507E',\n",
       "  'timezone': 'Asia/Kolkata',\n",
       "  'type': 'settlement'},\n",
       " {'name': 'Mumbai Suburban',\n",
       "  'place_id': 'mumbai-suburban',\n",
       "  'adm_area1': 'Maharashtra',\n",
       "  'adm_area2': 'Mumbai Suburban',\n",
       "  'country': 'India',\n",
       "  'lat': '19.12636N',\n",
       "  'lon': '72.84897E',\n",
       "  'timezone': 'Asia/Kolkata',\n",
       "  'type': 'administrative_area'}]"
      ]
     },
     "execution_count": 16,
     "metadata": {},
     "output_type": "execute_result"
    }
   ],
   "source": [
    "response"
   ]
  },
  {
   "cell_type": "code",
   "execution_count": 17,
   "id": "69ea289b",
   "metadata": {},
   "outputs": [],
   "source": [
    "functions = [\n",
    "        {\n",
    "            \"name\": \"get_current_weather\",\n",
    "            \"description\": \"Get the current weather in a given location\",\n",
    "            \"parameters\": {\n",
    "                \"type\": \"object\",\n",
    "                \"properties\": {\n",
    "                    \"location\": {\n",
    "                        \"type\": \"string\",\n",
    "                        \"description\": \"The city and state, e.g. San Francisco, CA\",\n",
    "                    },\n",
    "                    \n",
    "                },\n",
    "                \"required\": [\"location\"],\n",
    "            },\n",
    "        }\n",
    "    ]"
   ]
  },
  {
   "cell_type": "code",
   "execution_count": 18,
   "id": "de953af7",
   "metadata": {},
   "outputs": [
    {
     "data": {
      "text/plain": [
       "[{'name': 'get_current_weather',\n",
       "  'description': 'Get the current weather in a given location',\n",
       "  'parameters': {'type': 'object',\n",
       "   'properties': {'location': {'type': 'string',\n",
       "     'description': 'The city and state, e.g. San Francisco, CA'}},\n",
       "   'required': ['location']}}]"
      ]
     },
     "execution_count": 18,
     "metadata": {},
     "output_type": "execute_result"
    }
   ],
   "source": [
    "functions"
   ]
  },
  {
   "cell_type": "code",
   "execution_count": 20,
   "id": "442c54c8",
   "metadata": {},
   "outputs": [],
   "source": [
    "user_message=\"Hi There\"\n",
    "messages=[]\n",
    "messages.append({\"role\": \"user\", \"content\":user_message})\n",
    "completion=client.chat.completions.create(\n",
    "    model=\"gpt-3.5-turbo\",\n",
    "    messages=\n",
    "       messages\n",
    "    \n",
    ")"
   ]
  },
  {
   "cell_type": "code",
   "execution_count": 21,
   "id": "3a8851ab",
   "metadata": {},
   "outputs": [
    {
     "data": {
      "text/plain": [
       "ChatCompletionMessage(content='Hello! How can I assist you today?', refusal=None, role='assistant', annotations=[], audio=None, function_call=None, tool_calls=None)"
      ]
     },
     "execution_count": 21,
     "metadata": {},
     "output_type": "execute_result"
    }
   ],
   "source": [
    "completion.choices[0].message"
   ]
  },
  {
   "cell_type": "code",
   "execution_count": 22,
   "id": "f9c453e1",
   "metadata": {},
   "outputs": [
    {
     "data": {
      "text/plain": [
       "[{'role': 'user', 'content': 'Hi There'}]"
      ]
     },
     "execution_count": 22,
     "metadata": {},
     "output_type": "execute_result"
    }
   ],
   "source": [
    "messages"
   ]
  },
  {
   "cell_type": "code",
   "execution_count": 57,
   "id": "b07cd56b",
   "metadata": {},
   "outputs": [],
   "source": [
    "user_message=\"What is the temperature of Bangalore\"\n",
    "\n",
    "messages= [{\"role\": \"user\", \"content\": user_message}]\n",
    "completion=client.chat.completions.create(\n",
    "    model=\"gpt-3.5-turbo\",\n",
    "    messages=messages,\n",
    "    functions=functions\n",
    "    \n",
    ")"
   ]
  },
  {
   "cell_type": "code",
   "execution_count": 58,
   "id": "38113b0c",
   "metadata": {},
   "outputs": [
    {
     "data": {
      "text/plain": [
       "[{'role': 'user', 'content': 'What is the temperature of Bangalore'}]"
      ]
     },
     "execution_count": 58,
     "metadata": {},
     "output_type": "execute_result"
    }
   ],
   "source": [
    "messages"
   ]
  },
  {
   "cell_type": "code",
   "execution_count": 59,
   "id": "34968249",
   "metadata": {},
   "outputs": [
    {
     "data": {
      "text/plain": [
       "ChatCompletion(id='chatcmpl-BNY4YeRntOxSwKifjxMmcPpPiHThF', choices=[Choice(finish_reason='function_call', index=0, logprobs=None, message=ChatCompletionMessage(content=None, refusal=None, role='assistant', annotations=[], audio=None, function_call=FunctionCall(arguments='{\"location\":\"Bangalore\"}', name='get_current_weather'), tool_calls=None))], created=1744952218, model='gpt-3.5-turbo-0125', object='chat.completion', service_tier='default', system_fingerprint=None, usage=CompletionUsage(completion_tokens=17, prompt_tokens=69, total_tokens=86, completion_tokens_details=CompletionTokensDetails(accepted_prediction_tokens=0, audio_tokens=0, reasoning_tokens=0, rejected_prediction_tokens=0), prompt_tokens_details=PromptTokensDetails(audio_tokens=0, cached_tokens=0)))"
      ]
     },
     "execution_count": 59,
     "metadata": {},
     "output_type": "execute_result"
    }
   ],
   "source": [
    "completion"
   ]
  },
  {
   "cell_type": "code",
   "execution_count": 60,
   "id": "c8a020c4",
   "metadata": {},
   "outputs": [
    {
     "data": {
      "text/plain": [
       "ChatCompletionMessage(content=None, refusal=None, role='assistant', annotations=[], audio=None, function_call=FunctionCall(arguments='{\"location\":\"Bangalore\"}', name='get_current_weather'), tool_calls=None)"
      ]
     },
     "execution_count": 60,
     "metadata": {},
     "output_type": "execute_result"
    }
   ],
   "source": [
    "completion.choices[0].message"
   ]
  },
  {
   "cell_type": "code",
   "execution_count": 61,
   "id": "62d3cda1",
   "metadata": {},
   "outputs": [],
   "source": [
    "response=completion.choices[0].message\n"
   ]
  },
  {
   "cell_type": "code",
   "execution_count": 62,
   "id": "f38d23ca",
   "metadata": {},
   "outputs": [
    {
     "data": {
      "text/plain": [
       "ChatCompletionMessage(content=None, refusal=None, role='assistant', annotations=[], audio=None, function_call=FunctionCall(arguments='{\"location\":\"Bangalore\"}', name='get_current_weather'), tool_calls=None)"
      ]
     },
     "execution_count": 62,
     "metadata": {},
     "output_type": "execute_result"
    }
   ],
   "source": [
    "response"
   ]
  },
  {
   "cell_type": "code",
   "execution_count": 63,
   "id": "031c29dd",
   "metadata": {},
   "outputs": [
    {
     "name": "stdout",
     "output_type": "stream",
     "text": [
      "Function name: get_current_weather\n"
     ]
    }
   ],
   "source": [
    "function_name=response.function_call.name\n",
    "print(f\"Function name: {function_name}\")"
   ]
  },
  {
   "cell_type": "code",
   "execution_count": 64,
   "id": "9b022927",
   "metadata": {},
   "outputs": [
    {
     "name": "stdout",
     "output_type": "stream",
     "text": [
      "Bangalore\n"
     ]
    }
   ],
   "source": [
    "location = eval(response.function_call.arguments)['location']\n",
    "print(location)\n"
   ]
  },
  {
   "cell_type": "code",
   "execution_count": 66,
   "id": "c330fb1a",
   "metadata": {},
   "outputs": [
    {
     "data": {
      "text/plain": [
       "('Bangalore', 'get_current_weather')"
      ]
     },
     "execution_count": 66,
     "metadata": {},
     "output_type": "execute_result"
    }
   ],
   "source": [
    "location, function_name"
   ]
  },
  {
   "cell_type": "code",
   "execution_count": 67,
   "id": "fed28581",
   "metadata": {},
   "outputs": [],
   "source": [
    "# Step 4: send the info on the function call and function response to GPT\n",
    "\n",
    "messages.append(response)  # extend conversation with assistant's reply\n",
    "messages.append(\n",
    "    {\n",
    "        \"role\": \"function\",\n",
    "        \"name\": function_name,\n",
    "        \"content\": location,\n",
    "    }\n",
    ")"
   ]
  },
  {
   "cell_type": "code",
   "execution_count": 68,
   "id": "81a74916",
   "metadata": {},
   "outputs": [
    {
     "data": {
      "text/plain": [
       "[{'role': 'user', 'content': 'What is the temperature of Bangalore'},\n",
       " ChatCompletionMessage(content=None, refusal=None, role='assistant', annotations=[], audio=None, function_call=FunctionCall(arguments='{\"location\":\"Bangalore\"}', name='get_current_weather'), tool_calls=None),\n",
       " {'role': 'function', 'name': 'get_current_weather', 'content': 'Bangalore'}]"
      ]
     },
     "execution_count": 68,
     "metadata": {},
     "output_type": "execute_result"
    }
   ],
   "source": [
    "messages"
   ]
  },
  {
   "cell_type": "code",
   "execution_count": 69,
   "id": "7f5a2f9a",
   "metadata": {},
   "outputs": [],
   "source": [
    "# extend conversation with function response\n",
    "second_response = client.chat.completions.create(\n",
    "    model=\"gpt-3.5-turbo\",\n",
    "    messages=messages,\n",
    "    functions=functions\n",
    ")  # get a new response from GPT where it can see the function response"
   ]
  },
  {
   "cell_type": "code",
   "execution_count": 72,
   "id": "22d8fed2",
   "metadata": {},
   "outputs": [
    {
     "data": {
      "text/plain": [
       "ChatCompletion(id='chatcmpl-BNY6VrTSiVc0BFotv8tSJhalEber0', choices=[Choice(finish_reason='stop', index=0, logprobs=None, message=ChatCompletionMessage(content='The current temperature in Bangalore is 27°C.', refusal=None, role='assistant', annotations=[], audio=None, function_call=None, tool_calls=None))], created=1744952339, model='gpt-3.5-turbo-0125', object='chat.completion', service_tier='default', system_fingerprint=None, usage=CompletionUsage(completion_tokens=12, prompt_tokens=96, total_tokens=108, completion_tokens_details=CompletionTokensDetails(accepted_prediction_tokens=0, audio_tokens=0, reasoning_tokens=0, rejected_prediction_tokens=0), prompt_tokens_details=PromptTokensDetails(audio_tokens=0, cached_tokens=0)))"
      ]
     },
     "execution_count": 72,
     "metadata": {},
     "output_type": "execute_result"
    }
   ],
   "source": [
    "second_response"
   ]
  },
  {
   "cell_type": "code",
   "execution_count": 71,
   "id": "12fecc0a",
   "metadata": {},
   "outputs": [
    {
     "data": {
      "text/plain": [
       "'The current temperature in Bangalore is 27°C.'"
      ]
     },
     "execution_count": 71,
     "metadata": {},
     "output_type": "execute_result"
    }
   ],
   "source": [
    "second_response.choices[0].message.content"
   ]
  },
  {
   "cell_type": "code",
   "execution_count": null,
   "id": "6097106d",
   "metadata": {},
   "outputs": [],
   "source": []
  }
 ],
 "metadata": {
  "kernelspec": {
   "display_name": "openai",
   "language": "python",
   "name": "python3"
  },
  "language_info": {
   "codemirror_mode": {
    "name": "ipython",
    "version": 3
   },
   "file_extension": ".py",
   "mimetype": "text/x-python",
   "name": "python",
   "nbconvert_exporter": "python",
   "pygments_lexer": "ipython3",
   "version": "3.12.10"
  }
 },
 "nbformat": 4,
 "nbformat_minor": 5
}
